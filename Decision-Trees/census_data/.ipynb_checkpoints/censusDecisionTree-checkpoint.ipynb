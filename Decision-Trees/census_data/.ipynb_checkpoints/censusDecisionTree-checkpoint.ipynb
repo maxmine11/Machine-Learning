{
 "cells": [
  {
   "cell_type": "code",
   "execution_count": 1,
   "metadata": {
    "collapsed": false
   },
   "outputs": [],
   "source": [
    "import sklearn.metrics as metrics\n",
    "import numpy as np\n",
    "import scipy.io as sio\n",
    "import math\n",
    "import csv\n",
    "import matplotlib.pyplot as plt\n",
    "\n",
    "\n",
    "def load_dataset():\n",
    "    X_train = np.genfromtxt('train_data.csv', delimiter=',')\n",
    "    X_test = np.genfromtxt('test_data.csv', delimiter=',')\n",
    "    return X_train, X_test\n"
   ]
  },
  {
   "cell_type": "code",
   "execution_count": 3,
   "metadata": {
    "collapsed": false
   },
   "outputs": [
    {
     "name": "stderr",
     "output_type": "stream",
     "text": [
      "/Users/jp/anaconda/envs/py3k/lib/python3.5/site-packages/numpy/lib/npyio.py:1487: UserWarning: genfromtxt: Empty input file: \"train_data.csv\"\n",
      "  warnings.warn('genfromtxt: Empty input file: \"%s\"' % fname)\n",
      "/Users/jp/anaconda/envs/py3k/lib/python3.5/site-packages/numpy/lib/npyio.py:1487: UserWarning: genfromtxt: Empty input file: \"test_data.csv\"\n",
      "  warnings.warn('genfromtxt: Empty input file: \"%s\"' % fname)\n"
     ]
    }
   ],
   "source": [
    "X_train,X_test=load_dataset()"
   ]
  },
  {
   "cell_type": "code",
   "execution_count": 25,
   "metadata": {
    "collapsed": false
   },
   "outputs": [
    {
     "data": {
      "text/plain": [
       "array([], dtype=float64)"
      ]
     },
     "execution_count": 25,
     "metadata": {},
     "output_type": "execute_result"
    }
   ],
   "source": [
    "X_train\n"
   ]
  },
  {
   "cell_type": "code",
   "execution_count": null,
   "metadata": {
    "collapsed": true
   },
   "outputs": [],
   "source": []
  }
 ],
 "metadata": {
  "anaconda-cloud": {},
  "kernelspec": {
   "display_name": "Python [conda env:py3k]",
   "language": "python",
   "name": "conda-env-py3k-py"
  },
  "language_info": {
   "codemirror_mode": {
    "name": "ipython",
    "version": 3
   },
   "file_extension": ".py",
   "mimetype": "text/x-python",
   "name": "python",
   "nbconvert_exporter": "python",
   "pygments_lexer": "ipython3",
   "version": "3.5.2"
  }
 },
 "nbformat": 4,
 "nbformat_minor": 1
}
